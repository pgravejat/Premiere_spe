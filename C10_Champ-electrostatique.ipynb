{
 "cells": [
  {
   "cell_type": "markdown",
   "metadata": {},
   "source": [
    "## Activité 3 p 177 - Programme simulant le champ électrostatique d'une charge ponctuelle"
   ]
  },
  {
   "cell_type": "markdown",
   "metadata": {},
   "source": [
    "<div class=\"alert alert-block alert-info\">\n",
    "- Pour exécuter le code écrit dans un bloc : <b>MAJ-ENTREE </b><br>\n",
    "- Pour recommencer depuis le début : <b>Menu Kernel / Restart and clear output</b><br>\n",
    "- Toujours exécuter dans l'ordre le code écrit dans les blocs précédés de la mention <b>Entrée [ ]</b><br>\n",
    "- Pour recommencer depuis le début et relancer tout le programme en une fois : <b>Menu Kernel / Restart and Run all </b> <br>\n",
    "</div>"
   ]
  },
  {
   "cell_type": "markdown",
   "metadata": {},
   "source": [
    "<div class=\"alert alert-block alert-warning\">\n",
    "Importation des libraires de calcul et de tracé de courbe\n",
    "</div>"
   ]
  },
  {
   "cell_type": "code",
   "execution_count": null,
   "metadata": {},
   "outputs": [],
   "source": [
    "import matplotlib.pyplot as plt\n",
    "from math import *"
   ]
  },
  {
   "cell_type": "markdown",
   "metadata": {},
   "source": [
    "## 1. Création du vecteur champ électrostatique\n",
    "Modifier le programme « Champ électrostatique » pour observer l’évolution des caractéristiques du vecteur champ électrostatique lorsque : <br>\n",
    "a. le signe de la charge qA est modifié ;<br>\n",
    "b. la valeur de la charge qA est doublée ;<br>\n",
    "c. la distance d est doublée. <br>"
   ]
  },
  {
   "cell_type": "code",
   "execution_count": null,
   "metadata": {},
   "outputs": [],
   "source": [
    "#placement de la particule source du champ\n",
    "x_charge=0 #position au centre du graphique, ne pas modifier\n",
    "y_charge=0 #position au centre du graphique, ne pas modifier\n",
    "\n",
    "#Charge en fonction de la charge élementaire e\n",
    "charge=-2.0\n",
    "\n",
    "#coordonnées de la position à laquelle on est soumis au champ\n",
    "x=2\n",
    "y=2\n",
    "\n",
    "#affichage d'un message d'erreur si la demande de placement se situe au niveau de la particule;\n",
    "if x==x_charge and y==y_charge :\n",
    "    print(\"Erreur car la charge se situe au niveau de la particule\")\n",
    "    print(\"Fermez cette fenêtre et recommencez\" )\n",
    "    sys.exit(0)\n",
    "\n",
    "# distance entre l'origine et la charge\n",
    "Dist = ((x-x_charge)**2+(y-y_charge)**2)**0.5\n",
    "\n",
    "#Modélisation du champ selon deux vecteurs Ex et Ey\n",
    "Ex=charge*(x-x_charge)/Dist**3\n",
    "Ey=charge*(y-y_charge)/Dist**3\n",
    "\n",
    "#Valeur du champ à afficher sur le graphique\n",
    "E=9e9*abs(charge)*1.6e-19/(Dist*1e-9)**2\n",
    "\n",
    "#conversion en \"string\" pour pouvoir être affichée\n",
    "E=str(\"%.2E\"%E)\n"
   ]
  },
  {
   "cell_type": "markdown",
   "metadata": {},
   "source": [
    "## 2. Création du graphique"
   ]
  },
  {
   "cell_type": "code",
   "execution_count": null,
   "metadata": {},
   "outputs": [],
   "source": [
    "#graphique\n",
    "xmin, ymin, xmax, ymax = -7,-7,7,7\n",
    "plt.axis(\"equal\")\n",
    "\n",
    "#titre avec valeur du champ\n",
    "plt.title(\"Champ électrostatique en ce point :  E=\"+E+\" $\\mathrm{N\\cdot C^{-1}}$\")#Unité modifiée\n",
    "plt.xlabel(\"abscisse en nm\")\n",
    "plt.ylabel(\"ordonnée en nm\")\n",
    "\n",
    "\n",
    "plt.xlim(xmin, xmax)\n",
    "plt.ylim(ymin, ymax)\n",
    "ax = plt.gca()\n",
    "plt.grid()\n",
    "\n",
    "# Représentation de la charge centrale\n",
    "radius = .05*charge  #la taille va être modifiée avec la valeur de la charge\n",
    "color = 'red' if charge > 0 else 'blue'\n",
    "circle = plt.Circle((x_charge, y_charge), radius, color=color)\n",
    "ax.add_artist(circle)\n",
    "plt.text(0,-0.5,\"$q_A$\",color=color)\n",
    "\n",
    "\n",
    "charge=charge*1.6e-19\n",
    "qA=str(\"%.1E\"%charge)\n",
    "plt.text(-6,-4,\"$q_A$ = \"+qA+ \" C\",color=color)\n",
    "\n",
    "#valeur de la distance à afficher\n",
    "Dist=Dist*1.e-9\n",
    "d=str(\"%.2E\"%Dist)\n",
    "plt.text(-6,-4.5,\"$d$ = \"+d+ \" m\")\n",
    "\n",
    "# Représentation du champ électrique\n",
    "plt.scatter(x,y,marker=\"x\")\n",
    "plt.text(x+0.3,y-0.5,\"$\\overrightarrow{E}$\")\n",
    "plt.arrow(x,y,4.5*Ex,4.5*Ey,ec=\"k\",head_width=0.2,head_length=0.2) #coeff de proportionnalité pour la longueur changé\n",
    "\n",
    "plt.show()\n"
   ]
  },
  {
   "cell_type": "code",
   "execution_count": null,
   "metadata": {},
   "outputs": [],
   "source": []
  }
 ],
 "metadata": {
  "kernelspec": {
   "display_name": "Python 3 (ipykernel)",
   "language": "python",
   "name": "python3"
  },
  "language_info": {
   "codemirror_mode": {
    "name": "ipython",
    "version": 3
   },
   "file_extension": ".py",
   "mimetype": "text/x-python",
   "name": "python",
   "nbconvert_exporter": "python",
   "pygments_lexer": "ipython3",
   "version": "3.9.13"
  }
 },
 "nbformat": 4,
 "nbformat_minor": 2
}
